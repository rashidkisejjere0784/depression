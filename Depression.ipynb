{
  "nbformat": 4,
  "nbformat_minor": 0,
  "metadata": {
    "colab": {
      "provenance": [],
      "authorship_tag": "ABX9TyN2B2o4OJ/wqLz7U5YSdt/Y",
      "include_colab_link": true
    },
    "kernelspec": {
      "name": "python3",
      "display_name": "Python 3"
    },
    "language_info": {
      "name": "python"
    }
  },
  "cells": [
    {
      "cell_type": "markdown",
      "metadata": {
        "id": "view-in-github",
        "colab_type": "text"
      },
      "source": [
        "<a href=\"https://colab.research.google.com/github/rashidkisejjere0784/depression/blob/main/Depression.ipynb\" target=\"_parent\"><img src=\"https://colab.research.google.com/assets/colab-badge.svg\" alt=\"Open In Colab\"/></a>"
      ]
    },
    {
      "cell_type": "code",
      "execution_count": 1,
      "metadata": {
        "colab": {
          "base_uri": "https://localhost:8080/"
        },
        "id": "3qiCEHTHJX7x",
        "outputId": "c7be7d20-dd6c-4ecc-d8fc-248f698b407b"
      },
      "outputs": [
        {
          "output_type": "stream",
          "name": "stdout",
          "text": [
            "Looking in indexes: https://pypi.org/simple, https://us-python.pkg.dev/colab-wheels/public/simple/\n",
            "Requirement already satisfied: pyyaml in /usr/local/lib/python3.7/dist-packages (6.0)\n"
          ]
        }
      ],
      "source": [
        "!pip install pyyaml"
      ]
    },
    {
      "cell_type": "code",
      "source": [
        "file = open(\"depression.yml\", \"r\")"
      ],
      "metadata": {
        "id": "AqD1t49jJwsy"
      },
      "execution_count": 3,
      "outputs": []
    },
    {
      "cell_type": "code",
      "source": [
        "import yaml"
      ],
      "metadata": {
        "id": "8b6YbyfqJwqa"
      },
      "execution_count": 4,
      "outputs": []
    },
    {
      "cell_type": "code",
      "source": [
        "text = yaml.load(file, Loader = yaml.FullLoader)"
      ],
      "metadata": {
        "id": "QD7prAL-Jwnh"
      },
      "execution_count": 5,
      "outputs": []
    },
    {
      "cell_type": "code",
      "source": [
        "for item, doc in text.items():\n",
        "  print(item, doc)"
      ],
      "metadata": {
        "colab": {
          "base_uri": "https://localhost:8080/"
        },
        "id": "4rUCFLemKL8u",
        "outputId": "4f19db85-06d9-46bb-e1ce-8d3ecbacc697"
      },
      "execution_count": 11,
      "outputs": [
        {
          "output_type": "stream",
          "name": "stdout",
          "text": [
            "categories ['depression']\n",
            "conversations [['What Is Depression?', 'Depression is a common and serious medical illness that negatively affects how you feel, the way you think and how you act.', 'Fortunately,it is also treatable.', 'Depression causes feelings of sadness and/or a loss of interest in activities you once enjoyed. It can lead to a variety of emotional and physical problems and can decrease your ability to function at work and at home.'], ['I feel i have let my parents down', 'No matter what,your parents will always be proud of you and will love you.', 'You will feel much better if you share your feelings with them.'], ['What are the types of depression?', 'There are many different forms of depression but most common types are.', 'Clinical depression,persistent depressive disorder,bipolar disorder,postnatal disorder.'], ['I am good for nothing.', \"Don't ever think you cannot achieve what you want.\", 'You are capable of reaching your goals.Here is a quote for you Everything you can imagine is real.'], ['I am feeling stressed lately', 'My research says that music is the best way to calm yourself.', 'so visit the link and listen to your favourite music.', 'it will definitely cheer you up \"https://www.spotify.com\"'], ['i want to kill myself', 'Helpline is available,you can contact the counsellor today:9152987821.Always remember you mean something to someone.'], ['i am afraid i will fail again', 'failure is the stepping stone towards success.Never fear failure.', 'Your hardwork and determination will help you reach your goal.'], ['What is Depression?', 'Depression\\xa0is a mood disorder that causes a persistent feeling of sadness and loss of interest. Also called major\\xa0depressive\\xa0disorder or clinical\\xa0depression, it affects how you feel, think and behave and can lead to a variety of emotional and physical problems.'], ['What are the causes of depression?', \"It's complicated, and there are multiple\\xa0causes\\xa0of major\\xa0depression. Factors such as genetic vulnerability, severe life stressors, substances you may take (some medications, drugs and alcohol) and medical conditions can affect the way your brain regulates your moods.\"], ['What are the top causes of depression?', 'Abuse. Past physical, sexual, or emotional abuse can increase the vulnerability to clinical\\xa0depression\\xa0later in life.'], ['Which age group has the highest rate of depression?', 'This number represented 7.1% of all U.S. adults. The\\xa0prevalence\\xa0of major\\xa0depressive\\xa0episode was higher among adult females (8.7%) compared to males (5.3%). The\\xa0prevalence\\xa0of adults\\xa0with\\xa0a major\\xa0depressive\\xa0episode was\\xa0highest\\xa0among individuals aged 18-25 (13.1%).'], ['Which country has the highest rate of depression?', 'The most depressed country is Afghanistan, where more than one in five people suffer from the disorder. The least depressed is\\xa0Japan, with a diagnosed rate of less than 2.5 percent.'], ['Which country has the lowest rate of depression?', 'The most depressed country is Afghanistan, where more than one in five people suffer from the disorder. The least depressed is\\xa0Japan, with a diagnosed rate of less than 2.5 percent.'], ['Is school a cause of depression?', 'Not only\\xa0does school\\xa0sometimes contribute to\\xa0depression,\\xa0depression\\xa0can also interfere with\\xa0school. Moreover, research shows that 75 percent of all mental health conditions begin by age 24. Hence, the college years are a critical time for understanding and talking about teen mental health.'], ['What is the biological cause of depression?', \"There is no single\\xa0cause\\xa0for\\xa0depression; rather it's a combination of stress and a person's vulnerability to developing\\xa0depression. The predisposition to developing\\xa0depression\\xa0can be inherited. Other\\xa0biological causes\\xa0for\\xa0depression\\xa0can include physical illness, the process of ageing and gender.\"], ['How does depression affect the world?', 'Depression\\xa0is a leading\\xa0cause\\xa0of disability worldwide and is a major contributor to the overall\\xa0global\\xa0burden of disease. More women are affected by\\xa0depression\\xa0than men.\\xa0Depression\\xa0can lead to suicide. There are effective psychological and pharmacological treatments for moderate and severe\\xa0depression.'], ['Which race has the highest rate of depression?', 'Major depression was most prevalent among\\xa0Hispanics\\xa0(10.8%), followed by\\xa0African Americans\\xa0(8.9%) and\\xa0Whites\\xa0(7.8%). The odds of depressive disorders among older\\xa0Hispanics\\xa0were 44% greater than among\\xa0Whites\\xa0(OR = 1.44; 95% CI = 1.02, 2.04), representing a significantly greater prevalence of major depression.'], ['What is the meaning of anxiety and depression?', 'Depression\\xa0and\\xa0anxiety\\xa0disorders are different, but people with\\xa0depression\\xa0often experience symptoms similar to those of an\\xa0anxiety\\xa0disorder, such as nervousness, irritability, and problems sleeping and concentrating. But each disorder has its own causes and its own emotional and behavioral symptoms.'], ['Does oversleeping cause depression?', \"It's important to remember that\\xa0oversleeping\\xa0is a possible symptom of\\xa0depression\\xa0and that\\xa0oversleeping\\xa0doesn't\\xa0cause depression. But it\\xa0can\\xa0exacerbate and worsen\\xa0depression symptoms\"], ['Can lack of sleep make you feel sad?', 'Studies show\\xa0people\\xa0who are\\xa0sleep\\xa0deprived report increases in negative moods (anger, frustration, irritability,\\xa0sadness) and decreases in positive moods. And sleeplessness is often a symptom of mood disorders, such as depression and anxiety.'], ['Is depression a side effect of diabetes?', \"If you have\\xa0diabetes\\xa0— either type 1 or type 2 — you have an increased risk of developing\\xa0depression. And if you're\\xa0depressed, you may have a greater chance of developing type 2\\xa0diabetes. The good news is that\\xa0diabetes\\xa0and\\xa0depression\\xa0can be treated together.\"], ['Can low blood sugar cause suicidal thoughts?', 'The observed association between plasma\\xa0glucose levels, insulin resistance\\xa0and suicidal\\xa0behaviour suggests that disturbances in\\xa0glucose\\xa0metabolism are associated with\\xa0suicidal ideation and\\xa0attempts.'], ['How long can Anxiety last?', \"Anxiety attacks\\xa0usually peak within\\xa010 minutes, and they rarely last more than\\xa030 minutes. But during that short time, you may experience terror so severe that you feel as if you're about to die or totally lose control.\"], ['What are the stages of anxiety?', 'Anxiety levels\\xa0are typically classified by the level of distress and impairment experienced into four categories namely, mild\\xa0anxiety, moderate\\xa0anxiety, severe\\xa0anxiety\\xa0and panic level\\xa0anxiety.'], ['At what age does anxiety peak?', 'Adults\\xa0ages\\xa030 to 44 have the highest rate of\\xa0anxiety\\xa0of this\\xa0age\\xa0group, with around 23% of people this\\xa0age\\xa0reporting an\\xa0anxiety\\xa0disorder within the past year.'], ['Why is anxiety bad for you?', 'Anxiety\\xa0disorders can cause rapid heart rate, palpitations, and chest pain.\\xa0You\\xa0may also be at an increased risk of high blood pressure and heart disease. If\\xa0you\\xa0already have heart disease,\\xa0anxiety\\xa0disorders may raise the risk of coronary events.'], ['What is the 3 3 3 rule for anxiety?', \"There's an\\xa0anxiety-reducing technique called grounding. There are different versions of this, but an easy one to remember is the\\xa03-3-3 rule. Mentally note\\xa0three\\xa0things you see,\\xa0three\\xa0sounds you hear, and then move\\xa0three\\xa0parts of your body. This exercise can help your mind refocus on something else.\"], ['Do we control our thoughts?', 'We\\xa0are aware of a tiny fraction of the\\xa0thinking\\xa0that goes on in\\xa0our minds, and\\xa0we can control\\xa0only a tiny part of\\xa0our\\xa0conscious\\xa0thoughts. The vast majority of\\xa0our thinking\\xa0efforts goes on subconsciously. ... Slips of the tongue and accidental actions offer glimpses of\\xa0our\\xa0unfiltered subconscious mental life.'], ['How many thoughts a day do we have?', \"A new study has suggested that an average person has 6,200\\xa0thoughts\\xa0per\\xa0day. Thousands of\\xa0thoughts\\xa0cross our mind through the\\xa0day.\\xa0Many\\xa0people even complain that they can't sleep immediately after going to bed as their brain\\xa0does\\xa0not stop thinking.\"], ['How can we reduce anxiety?', '3 3 3 rule is the best method to reduce anxiety.', 'In this method you have to mentally note\\xa0three\\xa0things you see,\\xa0three\\xa0sounds you hear, and then move\\xa0three\\xa0parts of your body. This exercise can help your mind refocus on something else.'], ['I am lonely!', \"You are never lonely if you look around carefully you will find people who care for you and would love to have your company. Besides if you are feeling lonely literally I suggest you watch a horror movie then you won't feel lonely anymore. ;)\"], ['No one likes me!', \"You really think that? I'd suggest you try helping someone who really needs your help you'll straight up get a person to like you just by being nice. Kindness is the best gift you can offer to anyone :)\"], ['I think I am ugly!', 'Well do you really think that? Would you like to see the most beautiful face ever? Open your WebCam and voila, the prettiest face on this planet magically appears.'], ['I am good for nothing!', 'Your perception of how good you are, will never be accurate. If you wake up everyday in the morning, smile to yourself and tell yourself that the day is yours to seize you might stop feeling that way. Carpe Diem! my friend.'], ['I wish I was better than them', \"Life is never about being better than anyone else, it's always about being better than yourself, if you have the guts to be better than yourself, you are automatically the best person to ever exist!\"], ['I hate myself!', 'When God was creating the universe he gave humans the power to think and the contemplate, so that we can understand the world and make it a better place. God did not give you brains to hate yourself, it wuld be wiser to love yourself and show God that you are serving the purpose for which you were sent.'], [\"I wish I could've been a winner\", 'Our lives started off with winning, my friend. Everyone is born to be a winner, we just need to figure out the right way and need to wait for the right time.'], ['I hate losing.', 'First of all I\\'ll annoy you with a common saying, \"Failures are stepping stones to success.\" And then I\\'ll tell you, winning just boosts your ego, it is your failures that actually teach you.'], [\"I think I'm losing my mind\", \"You mean your cloud storage, SD card, or your Memory drive? If a machine like me doesn't lose it's memory unless a superior being that is you, a human doesen't erase it's memory, what could possibly go wrong to put you in this state?\"], ['I want a break', 'A break is putting your mind to rest getting rid of negative thoughts and stress. Your life is completely in your hands and taking a few hours off from pressurizing your brain will definitely be beneficial for you.'], ['I am stressed out', \"You know taking too much stress will affect you negatively. Sometimes it's better to let go of the thoughts in your head and let your mind chill.\"], ['I will never succeed in life', 'Success is something that is achieved at different times by different people, being patient and working while ignoring anything and everything that pulls you back is an important aspect in being successful.'], ['I am sad', 'Hey,hang in there.I know time is tough but be patient and everything will fall into place.', 'Here is a quote that I found which could cheer you up Forget what is gone, appreciate what remains, and look forward for what is coming next.'], ['I am a victim of bullying', 'Bullying is wrong and no one should be bullied.', 'I highly recommend you to file a case against your bully.'], ['I am afraid to file a case against bullying', \"Bullying is very wrong and you shouldn't let anyone overpower you.\", 'I highly recommend you to stand for yourself and report this to your guardian.'], ['I wish to quit', \"Winners never quit and quitters never win a very common saying, but it isn't easy to follow, quitting should never be one of your options always think of ways to fight life back and to emerge out stronger than ever.\"], ['I want to leave the cou ntry and run away', 'Why do you want to spend so much on this thought, I think it would be better to go on a vacation in your beautiful country and visit some amazing places that you are yet to visit.'], ['I let everyojokne down', 'If you are the one who let them down you were the one who raised there hopes in the first place.', 'If you have done it once I can guarantee you can do it over and over again.'], [\"I can't do this anymore\", \"If you are really that exhausted you definitely need a break, and taking a teeny tiny break isn't very harmful, take some time off let your mind be at peace and get back to work with all the enrgy and enthusiasm that you have.\"], ['My time has come', 'Yeahh!! The time has come for you to show the world that you are the greatest person alive, and no one else can be as good as you are.'], ['I am feeling anxious lately.', 'I have heard that 3 3 3 rule is the best method to reduce anxiety.', 'In this method you have to mentally note\\xa0three\\xa0things you see,\\xa0three\\xa0sounds you hear, and then move\\xa0three\\xa0parts of your body.', 'This exercise can help your mind refocus on something else.', 'Give this method a try I am sure it will help you']]\n"
          ]
        }
      ]
    },
    {
      "cell_type": "code",
      "source": [
        "data = text[\"conversations\"]"
      ],
      "metadata": {
        "id": "PgQIUIPqKL5d"
      },
      "execution_count": 12,
      "outputs": []
    },
    {
      "cell_type": "code",
      "source": [
        "import tensorflow as tf"
      ],
      "metadata": {
        "id": "OuWRLcKhKL2F"
      },
      "execution_count": 13,
      "outputs": []
    },
    {
      "cell_type": "code",
      "source": [
        "Xtokenizer = tf.keras.preprocessing.text.Tokenizer(filters='!\"#$%&()*+,-./:;<=>?@[\\\\]^_`{|}~\\t\\n',\n",
        "lower=True,\n",
        "split=\" \",\n",
        "char_level=False,\n",
        "oov_token=None,\n",
        "document_count=0)\n",
        "\n",
        "ytokenizer = tf.keras.preprocessing.text.Tokenizer(filters='!\"#$%&()*+,-./:;<=>?@[\\\\]^_`{|}~\\t\\n',\n",
        "lower=True,\n",
        "split=\" \",\n",
        "char_level=False,\n",
        "oov_token=None,\n",
        "document_count=0)"
      ],
      "metadata": {
        "id": "Q2EWlSemLDt2"
      },
      "execution_count": 34,
      "outputs": []
    },
    {
      "cell_type": "code",
      "source": [
        "Xtrain = []\n",
        "ytrain = []\n",
        "\n",
        "for row in data:\n",
        "  Xtrain.append(row[0])\n",
        "  ytrain.append(\", \" .join(row[1:]))"
      ],
      "metadata": {
        "id": "Iqwr2rJ_LDrX"
      },
      "execution_count": 23,
      "outputs": []
    },
    {
      "cell_type": "code",
      "source": [
        "ytrain[10]"
      ],
      "metadata": {
        "colab": {
          "base_uri": "https://localhost:8080/",
          "height": 53
        },
        "id": "fi1b4LyHLDm9",
        "outputId": "60bf4682-a902-49ed-eb2c-b7152d851c89"
      },
      "execution_count": 28,
      "outputs": [
        {
          "output_type": "execute_result",
          "data": {
            "text/plain": [
              "'This number represented 7.1% of all U.S. adults. The\\xa0prevalence\\xa0of major\\xa0depressive\\xa0episode was higher among adult females (8.7%) compared to males (5.3%). The\\xa0prevalence\\xa0of adults\\xa0with\\xa0a major\\xa0depressive\\xa0episode was\\xa0highest\\xa0among individuals aged 18-25 (13.1%).'"
            ],
            "application/vnd.google.colaboratory.intrinsic+json": {
              "type": "string"
            }
          },
          "metadata": {},
          "execution_count": 28
        }
      ]
    },
    {
      "cell_type": "code",
      "source": [
        "Xtrain[1]"
      ],
      "metadata": {
        "colab": {
          "base_uri": "https://localhost:8080/",
          "height": 35
        },
        "id": "In6PEjH3LDjh",
        "outputId": "0322bf35-06c3-46d3-d911-fe59bd33d4e4"
      },
      "execution_count": 27,
      "outputs": [
        {
          "output_type": "execute_result",
          "data": {
            "text/plain": [
              "'I feel i have let my parents down'"
            ],
            "application/vnd.google.colaboratory.intrinsic+json": {
              "type": "string"
            }
          },
          "metadata": {},
          "execution_count": 27
        }
      ]
    },
    {
      "cell_type": "code",
      "source": [
        "Xtokenizer.fit_on_texts(Xtrain)"
      ],
      "metadata": {
        "id": "RseGl06ZLDhK"
      },
      "execution_count": 35,
      "outputs": []
    },
    {
      "cell_type": "code",
      "source": [
        "ytokenizer.fit_on_texts(ytrain)"
      ],
      "metadata": {
        "id": "XP8D1c-MLDef"
      },
      "execution_count": 36,
      "outputs": []
    },
    {
      "cell_type": "code",
      "source": [
        "Xtokenizer.document_count"
      ],
      "metadata": {
        "colab": {
          "base_uri": "https://localhost:8080/"
        },
        "id": "kCXITjzRNd02",
        "outputId": "9b0983c8-2bce-4dc4-be7b-bad70575e2ee"
      },
      "execution_count": 37,
      "outputs": [
        {
          "output_type": "execute_result",
          "data": {
            "text/plain": [
              "51"
            ]
          },
          "metadata": {},
          "execution_count": 37
        }
      ]
    },
    {
      "cell_type": "code",
      "source": [
        "ytokenizer.document_count"
      ],
      "metadata": {
        "colab": {
          "base_uri": "https://localhost:8080/"
        },
        "id": "yj5rnxbGNdxd",
        "outputId": "797873dc-7ccc-494a-8854-19ef90e57544"
      },
      "execution_count": 39,
      "outputs": [
        {
          "output_type": "execute_result",
          "data": {
            "text/plain": [
              "51"
            ]
          },
          "metadata": {},
          "execution_count": 39
        }
      ]
    },
    {
      "cell_type": "code",
      "source": [
        "Xtokenizer.word_counts"
      ],
      "metadata": {
        "colab": {
          "base_uri": "https://localhost:8080/"
        },
        "id": "Zmw1rz_vNduw",
        "outputId": "d3c5f2a7-e95c-4a29-9cd0-ae88a796e64b"
      },
      "execution_count": 40,
      "outputs": [
        {
          "output_type": "execute_result",
          "data": {
            "text/plain": [
              "OrderedDict([('what', 10),\n",
              "             ('is', 8),\n",
              "             ('depression', 15),\n",
              "             ('i', 29),\n",
              "             ('feel', 2),\n",
              "             ('have', 2),\n",
              "             ('let', 2),\n",
              "             ('my', 3),\n",
              "             ('parents', 1),\n",
              "             ('down', 2),\n",
              "             ('are', 4),\n",
              "             ('the', 13),\n",
              "             ('types', 1),\n",
              "             ('of', 14),\n",
              "             ('am', 11),\n",
              "             ('good', 2),\n",
              "             ('for', 4),\n",
              "             ('nothing', 2),\n",
              "             ('feeling', 2),\n",
              "             ('stressed', 2),\n",
              "             ('lately', 2),\n",
              "             ('want', 3),\n",
              "             ('to', 4),\n",
              "             ('kill', 1),\n",
              "             ('myself', 2),\n",
              "             ('afraid', 2),\n",
              "             ('will', 2),\n",
              "             ('fail', 1),\n",
              "             ('again', 1),\n",
              "             ('causes', 2),\n",
              "             ('top', 1),\n",
              "             ('which', 4),\n",
              "             ('age', 2),\n",
              "             ('group', 1),\n",
              "             ('has', 5),\n",
              "             ('highest', 3),\n",
              "             ('rate', 4),\n",
              "             ('country', 2),\n",
              "             ('lowest', 1),\n",
              "             ('school', 1),\n",
              "             ('a', 7),\n",
              "             ('cause', 4),\n",
              "             ('biological', 1),\n",
              "             ('how', 4),\n",
              "             ('does', 3),\n",
              "             ('affect', 1),\n",
              "             ('world', 1),\n",
              "             ('race', 1),\n",
              "             ('meaning', 1),\n",
              "             ('anxiety', 7),\n",
              "             ('and', 2),\n",
              "             ('oversleeping', 1),\n",
              "             ('can', 4),\n",
              "             ('lack', 1),\n",
              "             ('sleep', 1),\n",
              "             ('make', 1),\n",
              "             ('you', 2),\n",
              "             ('sad', 2),\n",
              "             ('side', 1),\n",
              "             ('effect', 1),\n",
              "             ('diabetes', 1),\n",
              "             ('low', 1),\n",
              "             ('blood', 1),\n",
              "             ('sugar', 1),\n",
              "             ('suicidal', 1),\n",
              "             ('thoughts', 3),\n",
              "             ('long', 1),\n",
              "             ('last', 1),\n",
              "             ('stages', 1),\n",
              "             ('at', 1),\n",
              "             ('peak', 1),\n",
              "             ('why', 1),\n",
              "             ('bad', 1),\n",
              "             ('3', 3),\n",
              "             ('rule', 1),\n",
              "             ('do', 3),\n",
              "             ('we', 3),\n",
              "             ('control', 1),\n",
              "             ('our', 1),\n",
              "             ('many', 1),\n",
              "             ('day', 1),\n",
              "             ('reduce', 1),\n",
              "             ('lonely', 1),\n",
              "             ('no', 1),\n",
              "             ('one', 1),\n",
              "             ('likes', 1),\n",
              "             ('me', 1),\n",
              "             ('think', 2),\n",
              "             ('ugly', 1),\n",
              "             ('wish', 3),\n",
              "             ('was', 1),\n",
              "             ('better', 1),\n",
              "             ('than', 1),\n",
              "             ('them', 1),\n",
              "             ('hate', 2),\n",
              "             (\"could've\", 1),\n",
              "             ('been', 1),\n",
              "             ('winner', 1),\n",
              "             ('losing', 2),\n",
              "             (\"i'm\", 1),\n",
              "             ('mind', 1),\n",
              "             ('break', 1),\n",
              "             ('out', 1),\n",
              "             ('never', 1),\n",
              "             ('succeed', 1),\n",
              "             ('in', 1),\n",
              "             ('life', 1),\n",
              "             ('victim', 1),\n",
              "             ('bullying', 2),\n",
              "             ('file', 1),\n",
              "             ('case', 1),\n",
              "             ('against', 1),\n",
              "             ('quit', 1),\n",
              "             ('leave', 1),\n",
              "             ('cou', 1),\n",
              "             ('ntry', 1),\n",
              "             ('run', 1),\n",
              "             ('away', 1),\n",
              "             ('everyojokne', 1),\n",
              "             (\"can't\", 1),\n",
              "             ('this', 1),\n",
              "             ('anymore', 1),\n",
              "             ('time', 1),\n",
              "             ('come', 1),\n",
              "             ('anxious', 1)])"
            ]
          },
          "metadata": {},
          "execution_count": 40
        }
      ]
    },
    {
      "cell_type": "code",
      "source": [
        "len(ytrain)"
      ],
      "metadata": {
        "colab": {
          "base_uri": "https://localhost:8080/"
        },
        "id": "0s4sQvesNdrq",
        "outputId": "ddf4c5e2-e8f1-4a35-82a7-f3b1055de4a5"
      },
      "execution_count": 42,
      "outputs": [
        {
          "output_type": "execute_result",
          "data": {
            "text/plain": [
              "51"
            ]
          },
          "metadata": {},
          "execution_count": 42
        }
      ]
    },
    {
      "cell_type": "code",
      "source": [
        "classes = len(ytrain)"
      ],
      "metadata": {
        "id": "HpwnPsQBNdol"
      },
      "execution_count": 43,
      "outputs": []
    },
    {
      "cell_type": "code",
      "source": [
        "import nltk"
      ],
      "metadata": {
        "id": "oXjl0WgwLDb9"
      },
      "execution_count": 44,
      "outputs": []
    },
    {
      "cell_type": "code",
      "source": [
        "from nltk.stem import WordNetLemmatizer"
      ],
      "metadata": {
        "id": "E5F3KLP1PSNA"
      },
      "execution_count": 45,
      "outputs": []
    },
    {
      "cell_type": "code",
      "source": [
        "lemmatizer = WordNetLemmatizer()"
      ],
      "metadata": {
        "id": "wTc_-dobPSKF"
      },
      "execution_count": 46,
      "outputs": []
    },
    {
      "cell_type": "code",
      "source": [
        "Xtrain"
      ],
      "metadata": {
        "colab": {
          "base_uri": "https://localhost:8080/"
        },
        "id": "mekAjzuQPSHo",
        "outputId": "11e1886b-04e2-4f0a-f0a4-3ba5beff0c11"
      },
      "execution_count": 47,
      "outputs": [
        {
          "output_type": "execute_result",
          "data": {
            "text/plain": [
              "['What Is Depression?',\n",
              " 'I feel i have let my parents down',\n",
              " 'What are the types of depression?',\n",
              " 'I am good for nothing.',\n",
              " 'I am feeling stressed lately',\n",
              " 'i want to kill myself',\n",
              " 'i am afraid i will fail again',\n",
              " 'What is Depression?',\n",
              " 'What are the causes of depression?',\n",
              " 'What are the top causes of depression?',\n",
              " 'Which age group has the highest rate of depression?',\n",
              " 'Which country has the highest rate of depression?',\n",
              " 'Which country has the lowest rate of depression?',\n",
              " 'Is school a cause of depression?',\n",
              " 'What is the biological cause of depression?',\n",
              " 'How does depression affect the world?',\n",
              " 'Which race has the highest rate of depression?',\n",
              " 'What is the meaning of anxiety and depression?',\n",
              " 'Does oversleeping cause depression?',\n",
              " 'Can lack of sleep make you feel sad?',\n",
              " 'Is depression a side effect of diabetes?',\n",
              " 'Can low blood sugar cause suicidal thoughts?',\n",
              " 'How long can Anxiety last?',\n",
              " 'What are the stages of anxiety?',\n",
              " 'At what age does anxiety peak?',\n",
              " 'Why is anxiety bad for you?',\n",
              " 'What is the 3 3 3 rule for anxiety?',\n",
              " 'Do we control our thoughts?',\n",
              " 'How many thoughts a day do we have?',\n",
              " 'How can we reduce anxiety?',\n",
              " 'I am lonely!',\n",
              " 'No one likes me!',\n",
              " 'I think I am ugly!',\n",
              " 'I am good for nothing!',\n",
              " 'I wish I was better than them',\n",
              " 'I hate myself!',\n",
              " \"I wish I could've been a winner\",\n",
              " 'I hate losing.',\n",
              " \"I think I'm losing my mind\",\n",
              " 'I want a break',\n",
              " 'I am stressed out',\n",
              " 'I will never succeed in life',\n",
              " 'I am sad',\n",
              " 'I am a victim of bullying',\n",
              " 'I am afraid to file a case against bullying',\n",
              " 'I wish to quit',\n",
              " 'I want to leave the cou ntry and run away',\n",
              " 'I let everyojokne down',\n",
              " \"I can't do this anymore\",\n",
              " 'My time has come',\n",
              " 'I am feeling anxious lately.']"
            ]
          },
          "metadata": {},
          "execution_count": 47
        }
      ]
    },
    {
      "cell_type": "code",
      "source": [
        "X = []"
      ],
      "metadata": {
        "id": "0Z_9jduLPSFT"
      },
      "execution_count": 48,
      "outputs": []
    },
    {
      "cell_type": "code",
      "source": [
        "nltk.download('omw-1.4')\n"
      ],
      "metadata": {
        "colab": {
          "base_uri": "https://localhost:8080/"
        },
        "id": "KcMHTjfdRjmO",
        "outputId": "188d4640-39ee-4d58-d142-2e5292ba1a44"
      },
      "execution_count": 52,
      "outputs": [
        {
          "output_type": "stream",
          "name": "stderr",
          "text": [
            "[nltk_data] Downloading package omw-1.4 to /root/nltk_data...\n"
          ]
        },
        {
          "output_type": "execute_result",
          "data": {
            "text/plain": [
              "True"
            ]
          },
          "metadata": {},
          "execution_count": 52
        }
      ]
    },
    {
      "cell_type": "code",
      "source": [
        "import re\n",
        "\n",
        "exp = '!\"#$%&\\'()*+,-./:;<=>?@[]^_`{|}~'"
      ],
      "metadata": {
        "id": "LuofKZDnS39z"
      },
      "execution_count": 63,
      "outputs": []
    },
    {
      "cell_type": "code",
      "source": [
        "from string import punctuation\n",
        "\n",
        "punctuation"
      ],
      "metadata": {
        "colab": {
          "base_uri": "https://localhost:8080/",
          "height": 35
        },
        "id": "cLvSej-lS32h",
        "outputId": "e93c39d5-31ad-4a49-8afa-ca4506d03baa"
      },
      "execution_count": 60,
      "outputs": [
        {
          "output_type": "execute_result",
          "data": {
            "text/plain": [
              "'!\"#$%&\\'()*+,-./:;<=>?@[\\\\]^_`{|}~'"
            ],
            "application/vnd.google.colaboratory.intrinsic+json": {
              "type": "string"
            }
          },
          "metadata": {},
          "execution_count": 60
        }
      ]
    },
    {
      "cell_type": "code",
      "source": [
        "for sentence in Xtrain:\n",
        "  words = sentence.split()\n",
        "  row = []\n",
        "  for word in words:\n",
        "    word = re.sub(exp, \"\", word)\n",
        "    row.append(lemmatizer.lemmatize(word))\n",
        "\n",
        "  X.append(row)"
      ],
      "metadata": {
        "colab": {
          "base_uri": "https://localhost:8080/",
          "height": 380
        },
        "id": "eS2WfmF0PSC2",
        "outputId": "4af87cb1-aa71-4403-967a-e4af527d7de5"
      },
      "execution_count": 64,
      "outputs": [
        {
          "output_type": "error",
          "ename": "error",
          "evalue": "ignored",
          "traceback": [
            "\u001b[0;31m---------------------------------------------------------------------------\u001b[0m",
            "\u001b[0;31merror\u001b[0m                                     Traceback (most recent call last)",
            "\u001b[0;32m<ipython-input-64-fa80204a5034>\u001b[0m in \u001b[0;36m<module>\u001b[0;34m\u001b[0m\n\u001b[1;32m      3\u001b[0m   \u001b[0mrow\u001b[0m \u001b[0;34m=\u001b[0m \u001b[0;34m[\u001b[0m\u001b[0;34m]\u001b[0m\u001b[0;34m\u001b[0m\u001b[0;34m\u001b[0m\u001b[0m\n\u001b[1;32m      4\u001b[0m   \u001b[0;32mfor\u001b[0m \u001b[0mword\u001b[0m \u001b[0;32min\u001b[0m \u001b[0mwords\u001b[0m\u001b[0;34m:\u001b[0m\u001b[0;34m\u001b[0m\u001b[0;34m\u001b[0m\u001b[0m\n\u001b[0;32m----> 5\u001b[0;31m     \u001b[0mword\u001b[0m \u001b[0;34m=\u001b[0m \u001b[0mre\u001b[0m\u001b[0;34m.\u001b[0m\u001b[0msub\u001b[0m\u001b[0;34m(\u001b[0m\u001b[0mexp\u001b[0m\u001b[0;34m,\u001b[0m \u001b[0;34m\"\"\u001b[0m\u001b[0;34m,\u001b[0m \u001b[0mword\u001b[0m\u001b[0;34m)\u001b[0m\u001b[0;34m\u001b[0m\u001b[0;34m\u001b[0m\u001b[0m\n\u001b[0m\u001b[1;32m      6\u001b[0m     \u001b[0mrow\u001b[0m\u001b[0;34m.\u001b[0m\u001b[0mappend\u001b[0m\u001b[0;34m(\u001b[0m\u001b[0mlemmatizer\u001b[0m\u001b[0;34m.\u001b[0m\u001b[0mlemmatize\u001b[0m\u001b[0;34m(\u001b[0m\u001b[0mword\u001b[0m\u001b[0;34m)\u001b[0m\u001b[0;34m)\u001b[0m\u001b[0;34m\u001b[0m\u001b[0;34m\u001b[0m\u001b[0m\n\u001b[1;32m      7\u001b[0m \u001b[0;34m\u001b[0m\u001b[0m\n",
            "\u001b[0;32m/usr/lib/python3.7/re.py\u001b[0m in \u001b[0;36msub\u001b[0;34m(pattern, repl, string, count, flags)\u001b[0m\n\u001b[1;32m    192\u001b[0m     \u001b[0ma\u001b[0m \u001b[0mcallable\u001b[0m\u001b[0;34m,\u001b[0m \u001b[0mit\u001b[0m\u001b[0;31m'\u001b[0m\u001b[0ms\u001b[0m \u001b[0mpassed\u001b[0m \u001b[0mthe\u001b[0m \u001b[0mMatch\u001b[0m \u001b[0mobject\u001b[0m \u001b[0;32mand\u001b[0m \u001b[0mmust\u001b[0m \u001b[0;32mreturn\u001b[0m\u001b[0;34m\u001b[0m\u001b[0;34m\u001b[0m\u001b[0m\n\u001b[1;32m    193\u001b[0m     a replacement string to be used.\"\"\"\n\u001b[0;32m--> 194\u001b[0;31m     \u001b[0;32mreturn\u001b[0m \u001b[0m_compile\u001b[0m\u001b[0;34m(\u001b[0m\u001b[0mpattern\u001b[0m\u001b[0;34m,\u001b[0m \u001b[0mflags\u001b[0m\u001b[0;34m)\u001b[0m\u001b[0;34m.\u001b[0m\u001b[0msub\u001b[0m\u001b[0;34m(\u001b[0m\u001b[0mrepl\u001b[0m\u001b[0;34m,\u001b[0m \u001b[0mstring\u001b[0m\u001b[0;34m,\u001b[0m \u001b[0mcount\u001b[0m\u001b[0;34m)\u001b[0m\u001b[0;34m\u001b[0m\u001b[0;34m\u001b[0m\u001b[0m\n\u001b[0m\u001b[1;32m    195\u001b[0m \u001b[0;34m\u001b[0m\u001b[0m\n\u001b[1;32m    196\u001b[0m \u001b[0;32mdef\u001b[0m \u001b[0msubn\u001b[0m\u001b[0;34m(\u001b[0m\u001b[0mpattern\u001b[0m\u001b[0;34m,\u001b[0m \u001b[0mrepl\u001b[0m\u001b[0;34m,\u001b[0m \u001b[0mstring\u001b[0m\u001b[0;34m,\u001b[0m \u001b[0mcount\u001b[0m\u001b[0;34m=\u001b[0m\u001b[0;36m0\u001b[0m\u001b[0;34m,\u001b[0m \u001b[0mflags\u001b[0m\u001b[0;34m=\u001b[0m\u001b[0;36m0\u001b[0m\u001b[0;34m)\u001b[0m\u001b[0;34m:\u001b[0m\u001b[0;34m\u001b[0m\u001b[0;34m\u001b[0m\u001b[0m\n",
            "\u001b[0;32m/usr/lib/python3.7/re.py\u001b[0m in \u001b[0;36m_compile\u001b[0;34m(pattern, flags)\u001b[0m\n\u001b[1;32m    286\u001b[0m     \u001b[0;32mif\u001b[0m \u001b[0;32mnot\u001b[0m \u001b[0msre_compile\u001b[0m\u001b[0;34m.\u001b[0m\u001b[0misstring\u001b[0m\u001b[0;34m(\u001b[0m\u001b[0mpattern\u001b[0m\u001b[0;34m)\u001b[0m\u001b[0;34m:\u001b[0m\u001b[0;34m\u001b[0m\u001b[0;34m\u001b[0m\u001b[0m\n\u001b[1;32m    287\u001b[0m         \u001b[0;32mraise\u001b[0m \u001b[0mTypeError\u001b[0m\u001b[0;34m(\u001b[0m\u001b[0;34m\"first argument must be string or compiled pattern\"\u001b[0m\u001b[0;34m)\u001b[0m\u001b[0;34m\u001b[0m\u001b[0;34m\u001b[0m\u001b[0m\n\u001b[0;32m--> 288\u001b[0;31m     \u001b[0mp\u001b[0m \u001b[0;34m=\u001b[0m \u001b[0msre_compile\u001b[0m\u001b[0;34m.\u001b[0m\u001b[0mcompile\u001b[0m\u001b[0;34m(\u001b[0m\u001b[0mpattern\u001b[0m\u001b[0;34m,\u001b[0m \u001b[0mflags\u001b[0m\u001b[0;34m)\u001b[0m\u001b[0;34m\u001b[0m\u001b[0;34m\u001b[0m\u001b[0m\n\u001b[0m\u001b[1;32m    289\u001b[0m     \u001b[0;32mif\u001b[0m \u001b[0;32mnot\u001b[0m \u001b[0;34m(\u001b[0m\u001b[0mflags\u001b[0m \u001b[0;34m&\u001b[0m \u001b[0mDEBUG\u001b[0m\u001b[0;34m)\u001b[0m\u001b[0;34m:\u001b[0m\u001b[0;34m\u001b[0m\u001b[0;34m\u001b[0m\u001b[0m\n\u001b[1;32m    290\u001b[0m         \u001b[0;32mif\u001b[0m \u001b[0mlen\u001b[0m\u001b[0;34m(\u001b[0m\u001b[0m_cache\u001b[0m\u001b[0;34m)\u001b[0m \u001b[0;34m>=\u001b[0m \u001b[0m_MAXCACHE\u001b[0m\u001b[0;34m:\u001b[0m\u001b[0;34m\u001b[0m\u001b[0;34m\u001b[0m\u001b[0m\n",
            "\u001b[0;32m/usr/lib/python3.7/sre_compile.py\u001b[0m in \u001b[0;36mcompile\u001b[0;34m(p, flags)\u001b[0m\n\u001b[1;32m    762\u001b[0m     \u001b[0;32mif\u001b[0m \u001b[0misstring\u001b[0m\u001b[0;34m(\u001b[0m\u001b[0mp\u001b[0m\u001b[0;34m)\u001b[0m\u001b[0;34m:\u001b[0m\u001b[0;34m\u001b[0m\u001b[0;34m\u001b[0m\u001b[0m\n\u001b[1;32m    763\u001b[0m         \u001b[0mpattern\u001b[0m \u001b[0;34m=\u001b[0m \u001b[0mp\u001b[0m\u001b[0;34m\u001b[0m\u001b[0;34m\u001b[0m\u001b[0m\n\u001b[0;32m--> 764\u001b[0;31m         \u001b[0mp\u001b[0m \u001b[0;34m=\u001b[0m \u001b[0msre_parse\u001b[0m\u001b[0;34m.\u001b[0m\u001b[0mparse\u001b[0m\u001b[0;34m(\u001b[0m\u001b[0mp\u001b[0m\u001b[0;34m,\u001b[0m \u001b[0mflags\u001b[0m\u001b[0;34m)\u001b[0m\u001b[0;34m\u001b[0m\u001b[0;34m\u001b[0m\u001b[0m\n\u001b[0m\u001b[1;32m    765\u001b[0m     \u001b[0;32melse\u001b[0m\u001b[0;34m:\u001b[0m\u001b[0;34m\u001b[0m\u001b[0;34m\u001b[0m\u001b[0m\n\u001b[1;32m    766\u001b[0m         \u001b[0mpattern\u001b[0m \u001b[0;34m=\u001b[0m \u001b[0;32mNone\u001b[0m\u001b[0;34m\u001b[0m\u001b[0;34m\u001b[0m\u001b[0m\n",
            "\u001b[0;32m/usr/lib/python3.7/sre_parse.py\u001b[0m in \u001b[0;36mparse\u001b[0;34m(str, flags, pattern)\u001b[0m\n\u001b[1;32m    922\u001b[0m \u001b[0;34m\u001b[0m\u001b[0m\n\u001b[1;32m    923\u001b[0m     \u001b[0;32mtry\u001b[0m\u001b[0;34m:\u001b[0m\u001b[0;34m\u001b[0m\u001b[0;34m\u001b[0m\u001b[0m\n\u001b[0;32m--> 924\u001b[0;31m         \u001b[0mp\u001b[0m \u001b[0;34m=\u001b[0m \u001b[0m_parse_sub\u001b[0m\u001b[0;34m(\u001b[0m\u001b[0msource\u001b[0m\u001b[0;34m,\u001b[0m \u001b[0mpattern\u001b[0m\u001b[0;34m,\u001b[0m \u001b[0mflags\u001b[0m \u001b[0;34m&\u001b[0m \u001b[0mSRE_FLAG_VERBOSE\u001b[0m\u001b[0;34m,\u001b[0m \u001b[0;36m0\u001b[0m\u001b[0;34m)\u001b[0m\u001b[0;34m\u001b[0m\u001b[0;34m\u001b[0m\u001b[0m\n\u001b[0m\u001b[1;32m    925\u001b[0m     \u001b[0;32mexcept\u001b[0m \u001b[0mVerbose\u001b[0m\u001b[0;34m:\u001b[0m\u001b[0;34m\u001b[0m\u001b[0;34m\u001b[0m\u001b[0m\n\u001b[1;32m    926\u001b[0m         \u001b[0;31m# the VERBOSE flag was switched on inside the pattern.  to be\u001b[0m\u001b[0;34m\u001b[0m\u001b[0;34m\u001b[0m\u001b[0;34m\u001b[0m\u001b[0m\n",
            "\u001b[0;32m/usr/lib/python3.7/sre_parse.py\u001b[0m in \u001b[0;36m_parse_sub\u001b[0;34m(source, state, verbose, nested)\u001b[0m\n\u001b[1;32m    418\u001b[0m     \u001b[0;32mwhile\u001b[0m \u001b[0;32mTrue\u001b[0m\u001b[0;34m:\u001b[0m\u001b[0;34m\u001b[0m\u001b[0;34m\u001b[0m\u001b[0m\n\u001b[1;32m    419\u001b[0m         itemsappend(_parse(source, state, verbose, nested + 1,\n\u001b[0;32m--> 420\u001b[0;31m                            not nested and not items))\n\u001b[0m\u001b[1;32m    421\u001b[0m         \u001b[0;32mif\u001b[0m \u001b[0;32mnot\u001b[0m \u001b[0msourcematch\u001b[0m\u001b[0;34m(\u001b[0m\u001b[0;34m\"|\"\u001b[0m\u001b[0;34m)\u001b[0m\u001b[0;34m:\u001b[0m\u001b[0;34m\u001b[0m\u001b[0;34m\u001b[0m\u001b[0m\n\u001b[1;32m    422\u001b[0m             \u001b[0;32mbreak\u001b[0m\u001b[0;34m\u001b[0m\u001b[0;34m\u001b[0m\u001b[0m\n",
            "\u001b[0;32m/usr/lib/python3.7/sre_parse.py\u001b[0m in \u001b[0;36m_parse\u001b[0;34m(source, state, verbose, nested, first)\u001b[0m\n\u001b[1;32m    646\u001b[0m             \u001b[0;32mif\u001b[0m \u001b[0mitem\u001b[0m\u001b[0;34m[\u001b[0m\u001b[0;36m0\u001b[0m\u001b[0;34m]\u001b[0m\u001b[0;34m[\u001b[0m\u001b[0;36m0\u001b[0m\u001b[0;34m]\u001b[0m \u001b[0;32min\u001b[0m \u001b[0m_REPEATCODES\u001b[0m\u001b[0;34m:\u001b[0m\u001b[0;34m\u001b[0m\u001b[0;34m\u001b[0m\u001b[0m\n\u001b[1;32m    647\u001b[0m                 raise source.error(\"multiple repeat\",\n\u001b[0;32m--> 648\u001b[0;31m                                    source.tell() - here + len(this))\n\u001b[0m\u001b[1;32m    649\u001b[0m             \u001b[0;32mif\u001b[0m \u001b[0mitem\u001b[0m\u001b[0;34m[\u001b[0m\u001b[0;36m0\u001b[0m\u001b[0;34m]\u001b[0m\u001b[0;34m[\u001b[0m\u001b[0;36m0\u001b[0m\u001b[0;34m]\u001b[0m \u001b[0;32mis\u001b[0m \u001b[0mSUBPATTERN\u001b[0m\u001b[0;34m:\u001b[0m\u001b[0;34m\u001b[0m\u001b[0;34m\u001b[0m\u001b[0m\n\u001b[1;32m    650\u001b[0m                 \u001b[0mgroup\u001b[0m\u001b[0;34m,\u001b[0m \u001b[0madd_flags\u001b[0m\u001b[0;34m,\u001b[0m \u001b[0mdel_flags\u001b[0m\u001b[0;34m,\u001b[0m \u001b[0mp\u001b[0m \u001b[0;34m=\u001b[0m \u001b[0mitem\u001b[0m\u001b[0;34m[\u001b[0m\u001b[0;36m0\u001b[0m\u001b[0;34m]\u001b[0m\u001b[0;34m[\u001b[0m\u001b[0;36m1\u001b[0m\u001b[0;34m]\u001b[0m\u001b[0;34m\u001b[0m\u001b[0;34m\u001b[0m\u001b[0m\n",
            "\u001b[0;31merror\u001b[0m: multiple repeat at position 10"
          ]
        }
      ]
    },
    {
      "cell_type": "code",
      "source": [
        "X"
      ],
      "metadata": {
        "colab": {
          "base_uri": "https://localhost:8080/"
        },
        "id": "bHZjVT2nPSAk",
        "outputId": "73718a50-56cf-4d09-e98a-53499301d034"
      },
      "execution_count": 54,
      "outputs": [
        {
          "output_type": "execute_result",
          "data": {
            "text/plain": [
              "[['What', 'Is', 'Depression?'],\n",
              " ['I', 'feel', 'i', 'have', 'let', 'my', 'parent', 'down'],\n",
              " ['What', 'are', 'the', 'type', 'of', 'depression?'],\n",
              " ['I', 'am', 'good', 'for', 'nothing.'],\n",
              " ['I', 'am', 'feeling', 'stressed', 'lately'],\n",
              " ['i', 'want', 'to', 'kill', 'myself'],\n",
              " ['i', 'am', 'afraid', 'i', 'will', 'fail', 'again'],\n",
              " ['What', 'is', 'Depression?'],\n",
              " ['What', 'are', 'the', 'cause', 'of', 'depression?'],\n",
              " ['What', 'are', 'the', 'top', 'cause', 'of', 'depression?'],\n",
              " ['Which',\n",
              "  'age',\n",
              "  'group',\n",
              "  'ha',\n",
              "  'the',\n",
              "  'highest',\n",
              "  'rate',\n",
              "  'of',\n",
              "  'depression?'],\n",
              " ['Which', 'country', 'ha', 'the', 'highest', 'rate', 'of', 'depression?'],\n",
              " ['Which', 'country', 'ha', 'the', 'lowest', 'rate', 'of', 'depression?'],\n",
              " ['Is', 'school', 'a', 'cause', 'of', 'depression?'],\n",
              " ['What', 'is', 'the', 'biological', 'cause', 'of', 'depression?'],\n",
              " ['How', 'doe', 'depression', 'affect', 'the', 'world?'],\n",
              " ['Which', 'race', 'ha', 'the', 'highest', 'rate', 'of', 'depression?'],\n",
              " ['What', 'is', 'the', 'meaning', 'of', 'anxiety', 'and', 'depression?'],\n",
              " ['Does', 'oversleeping', 'cause', 'depression?'],\n",
              " ['Can', 'lack', 'of', 'sleep', 'make', 'you', 'feel', 'sad?'],\n",
              " ['Is', 'depression', 'a', 'side', 'effect', 'of', 'diabetes?'],\n",
              " ['Can', 'low', 'blood', 'sugar', 'cause', 'suicidal', 'thoughts?'],\n",
              " ['How', 'long', 'can', 'Anxiety', 'last?'],\n",
              " ['What', 'are', 'the', 'stage', 'of', 'anxiety?'],\n",
              " ['At', 'what', 'age', 'doe', 'anxiety', 'peak?'],\n",
              " ['Why', 'is', 'anxiety', 'bad', 'for', 'you?'],\n",
              " ['What', 'is', 'the', '3', '3', '3', 'rule', 'for', 'anxiety?'],\n",
              " ['Do', 'we', 'control', 'our', 'thoughts?'],\n",
              " ['How', 'many', 'thought', 'a', 'day', 'do', 'we', 'have?'],\n",
              " ['How', 'can', 'we', 'reduce', 'anxiety?'],\n",
              " ['I', 'am', 'lonely!'],\n",
              " ['No', 'one', 'like', 'me!'],\n",
              " ['I', 'think', 'I', 'am', 'ugly!'],\n",
              " ['I', 'am', 'good', 'for', 'nothing!'],\n",
              " ['I', 'wish', 'I', 'wa', 'better', 'than', 'them'],\n",
              " ['I', 'hate', 'myself!'],\n",
              " ['I', 'wish', 'I', \"could've\", 'been', 'a', 'winner'],\n",
              " ['I', 'hate', 'losing.'],\n",
              " ['I', 'think', \"I'm\", 'losing', 'my', 'mind'],\n",
              " ['I', 'want', 'a', 'break'],\n",
              " ['I', 'am', 'stressed', 'out'],\n",
              " ['I', 'will', 'never', 'succeed', 'in', 'life'],\n",
              " ['I', 'am', 'sad'],\n",
              " ['I', 'am', 'a', 'victim', 'of', 'bullying'],\n",
              " ['I', 'am', 'afraid', 'to', 'file', 'a', 'case', 'against', 'bullying'],\n",
              " ['I', 'wish', 'to', 'quit'],\n",
              " ['I', 'want', 'to', 'leave', 'the', 'cou', 'ntry', 'and', 'run', 'away'],\n",
              " ['I', 'let', 'everyojokne', 'down'],\n",
              " ['I', \"can't\", 'do', 'this', 'anymore'],\n",
              " ['My', 'time', 'ha', 'come'],\n",
              " ['I', 'am', 'feeling', 'anxious', 'lately.']]"
            ]
          },
          "metadata": {},
          "execution_count": 54
        }
      ]
    },
    {
      "cell_type": "code",
      "source": [],
      "metadata": {
        "id": "BVNuCh4wPR-L"
      },
      "execution_count": null,
      "outputs": []
    }
  ]
}